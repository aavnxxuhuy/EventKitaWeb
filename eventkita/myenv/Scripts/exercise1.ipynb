{
 "cells": [
  {
   "cell_type": "code",
   "execution_count": 12,
   "id": "3adf2b57-e58b-4de2-92ce-c428252bf4e7",
   "metadata": {},
   "outputs": [],
   "source": [
    "s = \"django\""
   ]
  },
  {
   "cell_type": "code",
   "execution_count": 13,
   "id": "8755f2c0-674c-4a02-a759-4f9b4e47ffde",
   "metadata": {},
   "outputs": [
    {
     "data": {
      "text/plain": [
       "'djan'"
      ]
     },
     "execution_count": 13,
     "metadata": {},
     "output_type": "execute_result"
    }
   ],
   "source": [
    "s[0:4]"
   ]
  },
  {
   "cell_type": "code",
   "execution_count": 14,
   "id": "bc532f32-00e4-4875-b3fa-e5658c76e73a",
   "metadata": {},
   "outputs": [
    {
     "data": {
      "text/plain": [
       "'jan'"
      ]
     },
     "execution_count": 14,
     "metadata": {},
     "output_type": "execute_result"
    }
   ],
   "source": [
    "s[1:4]"
   ]
  },
  {
   "cell_type": "code",
   "execution_count": 16,
   "id": "05588b48-7a67-4de9-91ab-f0ea8bf93822",
   "metadata": {},
   "outputs": [
    {
     "data": {
      "text/plain": [
       "'d'"
      ]
     },
     "execution_count": 16,
     "metadata": {},
     "output_type": "execute_result"
    }
   ],
   "source": [
    "s[0]"
   ]
  },
  {
   "cell_type": "code",
   "execution_count": 17,
   "id": "54545c47-9b34-4f8d-b969-7b9ba8dd0221",
   "metadata": {},
   "outputs": [
    {
     "data": {
      "text/plain": [
       "'o'"
      ]
     },
     "execution_count": 17,
     "metadata": {},
     "output_type": "execute_result"
    }
   ],
   "source": [
    "s[-1]"
   ]
  },
  {
   "cell_type": "code",
   "execution_count": 18,
   "id": "961a2791-feb8-41e8-97c9-47a42e7017a0",
   "metadata": {},
   "outputs": [],
   "source": [
    "l = [3,7,[1,4,'hello']]"
   ]
  },
  {
   "cell_type": "code",
   "execution_count": 19,
   "id": "ee8e85ba-f137-4e5c-aa5a-b33230bfee5c",
   "metadata": {},
   "outputs": [],
   "source": [
    "l[2][2] = 'goodbye'"
   ]
  },
  {
   "cell_type": "code",
   "execution_count": 20,
   "id": "aa972720-cb52-42ac-a1ef-23b5dfa47634",
   "metadata": {},
   "outputs": [
    {
     "data": {
      "text/plain": [
       "[3, 7, [1, 4, 'goodbye']]"
      ]
     },
     "execution_count": 20,
     "metadata": {},
     "output_type": "execute_result"
    }
   ],
   "source": [
    "l"
   ]
  },
  {
   "cell_type": "code",
   "execution_count": 21,
   "id": "71fc5afa-7c6c-4395-a49f-3572701794ae",
   "metadata": {},
   "outputs": [],
   "source": [
    "d2 = {'k1':{\"k2\":\"Hello\"}}"
   ]
  },
  {
   "cell_type": "code",
   "execution_count": 22,
   "id": "41b8e694-836b-4c4d-9b53-1223bb823729",
   "metadata": {},
   "outputs": [
    {
     "data": {
      "text/plain": [
       "'Hello'"
      ]
     },
     "execution_count": 22,
     "metadata": {},
     "output_type": "execute_result"
    }
   ],
   "source": [
    "d2[\"k1\"][\"k2\"]"
   ]
  },
  {
   "cell_type": "code",
   "execution_count": 29,
   "id": "d0f96161-10c9-4e6d-8f05-47adb142e804",
   "metadata": {},
   "outputs": [],
   "source": [
    "d3 = {'k1':[{\"nest_key\":['this is deep',[\"Hello\"]]}]}"
   ]
  },
  {
   "cell_type": "code",
   "execution_count": 31,
   "id": "0dbfc5dd-81d9-4b45-b119-82b085c7531e",
   "metadata": {},
   "outputs": [
    {
     "data": {
      "text/plain": [
       "['Hello']"
      ]
     },
     "execution_count": 31,
     "metadata": {},
     "output_type": "execute_result"
    }
   ],
   "source": [
    "d3[\"k1\"][0][\"nest_key\"][1]\n"
   ]
  },
  {
   "cell_type": "code",
   "execution_count": 32,
   "id": "6b436fd5-5afd-45f2-865b-048dae68d88f",
   "metadata": {},
   "outputs": [
    {
     "data": {
      "text/plain": [
       "'Hello'"
      ]
     },
     "execution_count": 32,
     "metadata": {},
     "output_type": "execute_result"
    }
   ],
   "source": [
    "d3[\"k1\"][0][\"nest_key\"][1][0]"
   ]
  },
  {
   "cell_type": "code",
   "execution_count": null,
   "id": "f95fbdbb-8633-423b-a75c-b1c4795859b2",
   "metadata": {},
   "outputs": [],
   "source": []
  }
 ],
 "metadata": {
  "kernelspec": {
   "display_name": "Python 3 (ipykernel)",
   "language": "python",
   "name": "python3"
  },
  "language_info": {
   "codemirror_mode": {
    "name": "ipython",
    "version": 3
   },
   "file_extension": ".py",
   "mimetype": "text/x-python",
   "name": "python",
   "nbconvert_exporter": "python",
   "pygments_lexer": "ipython3",
   "version": "3.11.9"
  }
 },
 "nbformat": 4,
 "nbformat_minor": 5
}
